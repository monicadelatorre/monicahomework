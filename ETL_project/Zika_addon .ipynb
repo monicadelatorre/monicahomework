{
 "cells": [
  {
   "cell_type": "markdown",
   "metadata": {},
   "source": [
    "# Pull out only the rows for the states we are interested in"
   ]
  },
  {
   "cell_type": "code",
   "execution_count": null,
   "metadata": {},
   "outputs": [],
   "source": [
    "newdf15=new_zika2015_df[new_zika2015_df['State'].isin(['California', 'Oregon', 'Washington'])].reset_index(drop=True)\n",
    "newdf15.reset_index(level=0, inplace=True)\n",
    "newdf15 = newdf15.rename(index=str, columns={\"index\": \"id\"})\n",
    "newdf15"
   ]
  },
  {
   "cell_type": "code",
   "execution_count": null,
   "metadata": {},
   "outputs": [],
   "source": [
    "newdf16=new_zika2016_df[new_zika2016_df['State'].isin(['California', 'Oregon', 'Washington'])].reset_index(drop=True)\n",
    "newdf16.reset_index(level=0, inplace=True)\n",
    "newdf16 = newdf16.rename(index=str, columns={\"index\": \"id\"})\n",
    "newdf16"
   ]
  },
  {
   "cell_type": "code",
   "execution_count": null,
   "metadata": {},
   "outputs": [],
   "source": [
    "newdf17=new_zika_df[new_zika_df['State'].isin(['California', 'Oregon', 'Washington'])].reset_index(drop=True)\n",
    "newdf17.reset_index(level=0, inplace=True)\n",
    "newdf17 = newdf17.rename(index=str, columns={\"index\": \"id\"})\n",
    "newdf17"
   ]
  },
  {
   "cell_type": "markdown",
   "metadata": {},
   "source": [
    "# Connect to local database"
   ]
  },
  {
   "cell_type": "code",
   "execution_count": null,
   "metadata": {},
   "outputs": [],
   "source": [
    "#connect to local database\n",
    "rds_connection_string = \"<inser user name>:<insert password>@127.0.0.1/weather_db\"\n",
    "engine = create_engine(f'mysql://{rds_connection_string}')"
   ]
  },
  {
   "cell_type": "markdown",
   "metadata": {},
   "source": [
    "# Using MYSQL Workbench: Create database and tables"
   ]
  },
  {
   "cell_type": "markdown",
   "metadata": {},
   "source": [
    "CREATE DATABASE weather_db;\n",
    "\n",
    "USE weather_db;\n",
    "\n",
    "\n",
    "CREATE TABLE newdf15_sql (\n",
    " id INT PRIMARY KEY,\n",
    "  State VARCHAR(30) NOT NULL,\n",
    "  Count(w/symptoms) INT,\n",
    "  Count(w/o symptoms) INT,\n",
    "  yr INT\n",
    ");\n",
    "\n",
    "CREATE TABLE newdf16_sql (\n",
    " id INT PRIMARY KEY,\n",
    "  State VARCHAR(30) NOT NULL,\n",
    "  Count(w/symptoms) INT,\n",
    "  Count(w/o symptoms) INT,\n",
    "  yr INT\n",
    ");\n",
    "\n",
    "CREATE TABLE newdf17_sql (\n",
    " id INT PRIMARY KEY,\n",
    "  State VARCHAR(30) NOT NULL,\n",
    "  Count(w/symptoms) INT,\n",
    "  Count(w/o symptoms) INT,\n",
    "  yr INT\n",
    ");"
   ]
  },
  {
   "cell_type": "markdown",
   "metadata": {},
   "source": [
    "# Check for tables"
   ]
  },
  {
   "cell_type": "code",
   "execution_count": null,
   "metadata": {},
   "outputs": [],
   "source": [
    "engine.table_names()"
   ]
  },
  {
   "cell_type": "markdown",
   "metadata": {},
   "source": [
    "# Use pandas to load DataFrame into database"
   ]
  },
  {
   "cell_type": "code",
   "execution_count": null,
   "metadata": {},
   "outputs": [],
   "source": [
    "newdf15.to_sql(name='newdf15_sql', con=engine, if_exists='append', index=False)\n",
    "newdf16.to_sql(name='newdf16_sql', con=engine, if_exists='append', index=False)\n",
    "newdf17.to_sql(name='newdf17_sql', con=engine, if_exists='append', index=False)"
   ]
  },
  {
   "cell_type": "markdown",
   "metadata": {},
   "source": [
    "# Confirm data has been added by querying the tables"
   ]
  },
  {
   "cell_type": "code",
   "execution_count": null,
   "metadata": {},
   "outputs": [],
   "source": [
    "pd.read_sql_query('SELECT * FROM newdf15_sql', con=engine)"
   ]
  },
  {
   "cell_type": "code",
   "execution_count": null,
   "metadata": {},
   "outputs": [],
   "source": []
  }
 ],
 "metadata": {
  "kernelspec": {
   "display_name": "Python 3",
   "language": "python",
   "name": "python3"
  },
  "language_info": {
   "codemirror_mode": {
    "name": "ipython",
    "version": 3
   },
   "file_extension": ".py",
   "mimetype": "text/x-python",
   "name": "python",
   "nbconvert_exporter": "python",
   "pygments_lexer": "ipython3",
   "version": "3.7.2"
  }
 },
 "nbformat": 4,
 "nbformat_minor": 2
}
